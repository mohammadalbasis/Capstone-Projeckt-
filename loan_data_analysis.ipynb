{
 "cells": [
  {
   "cell_type": "markdown",
   "id": "508cb3bc-5f03-4cdf-822c-5a0dc84a6be3",
   "metadata": {},
   "source": [
    "Steps to perform:\n",
    "Perform exploratory data analysis and feature engineering and then apply feature engineering. Follow up with a deep learning model to predict whether or not the loan will be default using the historical data.\n",
    "\n",
    "Tasks:\n",
    "\t\n",
    "1.     Feature Transformation\n",
    "\n",
    "●\tTransform categorical values into numerical values (discrete)\n",
    "\n",
    "2.     Exploratory data analysis of different factors of the dataset.\n",
    "\n",
    "3.     Additional Feature Engineering\n",
    "\n",
    "●\tYou will check the correlation between features and will drop those features which have a strong correlation\n",
    "●\tThis will help reduce the number of features and will leave you with the most relevant features\n",
    "\n",
    "4.     Modeling\n",
    "\n",
    "●\tAfter applying EDA and feature engineering, you are now ready to build the predictive models\n",
    "●\tIn this part, you will create a deep learning model using Keras with Tensorflow backend\n"
   ]
  },
  {
   "cell_type": "code",
   "execution_count": 1,
   "id": "691a532d-64ee-4c35-b039-23e3b9e126bc",
   "metadata": {},
   "outputs": [
    {
     "name": "stdout",
     "output_type": "stream",
     "text": [
      "all lib imported\n"
     ]
    }
   ],
   "source": [
    "# import the dataset\n",
    "import pandas as pd\n",
    "import numpy as np\n",
    "import matplotlib.pyplot as plt\n",
    "import seaborn as sns\n",
    "print('all lib imported')"
   ]
  },
  {
   "cell_type": "code",
   "execution_count": 2,
   "id": "dcd57771-f5a3-4533-8331-0b518d5f6ea6",
   "metadata": {},
   "outputs": [],
   "source": [
    "# import loan data\n",
    "data=pd.read_csv('loan_data.csv')"
   ]
  },
  {
   "cell_type": "code",
   "execution_count": 3,
   "id": "60aca4cb-6939-4a38-8af7-5f6e673531eb",
   "metadata": {},
   "outputs": [
    {
     "data": {
      "text/html": [
       "<div>\n",
       "<style scoped>\n",
       "    .dataframe tbody tr th:only-of-type {\n",
       "        vertical-align: middle;\n",
       "    }\n",
       "\n",
       "    .dataframe tbody tr th {\n",
       "        vertical-align: top;\n",
       "    }\n",
       "\n",
       "    .dataframe thead th {\n",
       "        text-align: right;\n",
       "    }\n",
       "</style>\n",
       "<table border=\"1\" class=\"dataframe\">\n",
       "  <thead>\n",
       "    <tr style=\"text-align: right;\">\n",
       "      <th></th>\n",
       "      <th>credit.policy</th>\n",
       "      <th>purpose</th>\n",
       "      <th>int.rate</th>\n",
       "      <th>installment</th>\n",
       "      <th>log.annual.inc</th>\n",
       "      <th>dti</th>\n",
       "      <th>fico</th>\n",
       "      <th>days.with.cr.line</th>\n",
       "      <th>revol.bal</th>\n",
       "      <th>revol.util</th>\n",
       "      <th>inq.last.6mths</th>\n",
       "      <th>delinq.2yrs</th>\n",
       "      <th>pub.rec</th>\n",
       "      <th>not.fully.paid</th>\n",
       "    </tr>\n",
       "  </thead>\n",
       "  <tbody>\n",
       "    <tr>\n",
       "      <th>0</th>\n",
       "      <td>1</td>\n",
       "      <td>debt_consolidation</td>\n",
       "      <td>0.1189</td>\n",
       "      <td>829.10</td>\n",
       "      <td>11.350407</td>\n",
       "      <td>19.48</td>\n",
       "      <td>737</td>\n",
       "      <td>5639.958333</td>\n",
       "      <td>28854</td>\n",
       "      <td>52.1</td>\n",
       "      <td>0</td>\n",
       "      <td>0</td>\n",
       "      <td>0</td>\n",
       "      <td>0</td>\n",
       "    </tr>\n",
       "    <tr>\n",
       "      <th>1</th>\n",
       "      <td>1</td>\n",
       "      <td>credit_card</td>\n",
       "      <td>0.1071</td>\n",
       "      <td>228.22</td>\n",
       "      <td>11.082143</td>\n",
       "      <td>14.29</td>\n",
       "      <td>707</td>\n",
       "      <td>2760.000000</td>\n",
       "      <td>33623</td>\n",
       "      <td>76.7</td>\n",
       "      <td>0</td>\n",
       "      <td>0</td>\n",
       "      <td>0</td>\n",
       "      <td>0</td>\n",
       "    </tr>\n",
       "    <tr>\n",
       "      <th>2</th>\n",
       "      <td>1</td>\n",
       "      <td>debt_consolidation</td>\n",
       "      <td>0.1357</td>\n",
       "      <td>366.86</td>\n",
       "      <td>10.373491</td>\n",
       "      <td>11.63</td>\n",
       "      <td>682</td>\n",
       "      <td>4710.000000</td>\n",
       "      <td>3511</td>\n",
       "      <td>25.6</td>\n",
       "      <td>1</td>\n",
       "      <td>0</td>\n",
       "      <td>0</td>\n",
       "      <td>0</td>\n",
       "    </tr>\n",
       "    <tr>\n",
       "      <th>3</th>\n",
       "      <td>1</td>\n",
       "      <td>debt_consolidation</td>\n",
       "      <td>0.1008</td>\n",
       "      <td>162.34</td>\n",
       "      <td>11.350407</td>\n",
       "      <td>8.10</td>\n",
       "      <td>712</td>\n",
       "      <td>2699.958333</td>\n",
       "      <td>33667</td>\n",
       "      <td>73.2</td>\n",
       "      <td>1</td>\n",
       "      <td>0</td>\n",
       "      <td>0</td>\n",
       "      <td>0</td>\n",
       "    </tr>\n",
       "    <tr>\n",
       "      <th>4</th>\n",
       "      <td>1</td>\n",
       "      <td>credit_card</td>\n",
       "      <td>0.1426</td>\n",
       "      <td>102.92</td>\n",
       "      <td>11.299732</td>\n",
       "      <td>14.97</td>\n",
       "      <td>667</td>\n",
       "      <td>4066.000000</td>\n",
       "      <td>4740</td>\n",
       "      <td>39.5</td>\n",
       "      <td>0</td>\n",
       "      <td>1</td>\n",
       "      <td>0</td>\n",
       "      <td>0</td>\n",
       "    </tr>\n",
       "    <tr>\n",
       "      <th>...</th>\n",
       "      <td>...</td>\n",
       "      <td>...</td>\n",
       "      <td>...</td>\n",
       "      <td>...</td>\n",
       "      <td>...</td>\n",
       "      <td>...</td>\n",
       "      <td>...</td>\n",
       "      <td>...</td>\n",
       "      <td>...</td>\n",
       "      <td>...</td>\n",
       "      <td>...</td>\n",
       "      <td>...</td>\n",
       "      <td>...</td>\n",
       "      <td>...</td>\n",
       "    </tr>\n",
       "    <tr>\n",
       "      <th>9573</th>\n",
       "      <td>0</td>\n",
       "      <td>all_other</td>\n",
       "      <td>0.1461</td>\n",
       "      <td>344.76</td>\n",
       "      <td>12.180755</td>\n",
       "      <td>10.39</td>\n",
       "      <td>672</td>\n",
       "      <td>10474.000000</td>\n",
       "      <td>215372</td>\n",
       "      <td>82.1</td>\n",
       "      <td>2</td>\n",
       "      <td>0</td>\n",
       "      <td>0</td>\n",
       "      <td>1</td>\n",
       "    </tr>\n",
       "    <tr>\n",
       "      <th>9574</th>\n",
       "      <td>0</td>\n",
       "      <td>all_other</td>\n",
       "      <td>0.1253</td>\n",
       "      <td>257.70</td>\n",
       "      <td>11.141862</td>\n",
       "      <td>0.21</td>\n",
       "      <td>722</td>\n",
       "      <td>4380.000000</td>\n",
       "      <td>184</td>\n",
       "      <td>1.1</td>\n",
       "      <td>5</td>\n",
       "      <td>0</td>\n",
       "      <td>0</td>\n",
       "      <td>1</td>\n",
       "    </tr>\n",
       "    <tr>\n",
       "      <th>9575</th>\n",
       "      <td>0</td>\n",
       "      <td>debt_consolidation</td>\n",
       "      <td>0.1071</td>\n",
       "      <td>97.81</td>\n",
       "      <td>10.596635</td>\n",
       "      <td>13.09</td>\n",
       "      <td>687</td>\n",
       "      <td>3450.041667</td>\n",
       "      <td>10036</td>\n",
       "      <td>82.9</td>\n",
       "      <td>8</td>\n",
       "      <td>0</td>\n",
       "      <td>0</td>\n",
       "      <td>1</td>\n",
       "    </tr>\n",
       "    <tr>\n",
       "      <th>9576</th>\n",
       "      <td>0</td>\n",
       "      <td>home_improvement</td>\n",
       "      <td>0.1600</td>\n",
       "      <td>351.58</td>\n",
       "      <td>10.819778</td>\n",
       "      <td>19.18</td>\n",
       "      <td>692</td>\n",
       "      <td>1800.000000</td>\n",
       "      <td>0</td>\n",
       "      <td>3.2</td>\n",
       "      <td>5</td>\n",
       "      <td>0</td>\n",
       "      <td>0</td>\n",
       "      <td>1</td>\n",
       "    </tr>\n",
       "    <tr>\n",
       "      <th>9577</th>\n",
       "      <td>0</td>\n",
       "      <td>debt_consolidation</td>\n",
       "      <td>0.1392</td>\n",
       "      <td>853.43</td>\n",
       "      <td>11.264464</td>\n",
       "      <td>16.28</td>\n",
       "      <td>732</td>\n",
       "      <td>4740.000000</td>\n",
       "      <td>37879</td>\n",
       "      <td>57.0</td>\n",
       "      <td>6</td>\n",
       "      <td>0</td>\n",
       "      <td>0</td>\n",
       "      <td>1</td>\n",
       "    </tr>\n",
       "  </tbody>\n",
       "</table>\n",
       "<p>9578 rows × 14 columns</p>\n",
       "</div>"
      ],
      "text/plain": [
       "      credit.policy             purpose  int.rate  installment  \\\n",
       "0                 1  debt_consolidation    0.1189       829.10   \n",
       "1                 1         credit_card    0.1071       228.22   \n",
       "2                 1  debt_consolidation    0.1357       366.86   \n",
       "3                 1  debt_consolidation    0.1008       162.34   \n",
       "4                 1         credit_card    0.1426       102.92   \n",
       "...             ...                 ...       ...          ...   \n",
       "9573              0           all_other    0.1461       344.76   \n",
       "9574              0           all_other    0.1253       257.70   \n",
       "9575              0  debt_consolidation    0.1071        97.81   \n",
       "9576              0    home_improvement    0.1600       351.58   \n",
       "9577              0  debt_consolidation    0.1392       853.43   \n",
       "\n",
       "      log.annual.inc    dti  fico  days.with.cr.line  revol.bal  revol.util  \\\n",
       "0          11.350407  19.48   737        5639.958333      28854        52.1   \n",
       "1          11.082143  14.29   707        2760.000000      33623        76.7   \n",
       "2          10.373491  11.63   682        4710.000000       3511        25.6   \n",
       "3          11.350407   8.10   712        2699.958333      33667        73.2   \n",
       "4          11.299732  14.97   667        4066.000000       4740        39.5   \n",
       "...              ...    ...   ...                ...        ...         ...   \n",
       "9573       12.180755  10.39   672       10474.000000     215372        82.1   \n",
       "9574       11.141862   0.21   722        4380.000000        184         1.1   \n",
       "9575       10.596635  13.09   687        3450.041667      10036        82.9   \n",
       "9576       10.819778  19.18   692        1800.000000          0         3.2   \n",
       "9577       11.264464  16.28   732        4740.000000      37879        57.0   \n",
       "\n",
       "      inq.last.6mths  delinq.2yrs  pub.rec  not.fully.paid  \n",
       "0                  0            0        0               0  \n",
       "1                  0            0        0               0  \n",
       "2                  1            0        0               0  \n",
       "3                  1            0        0               0  \n",
       "4                  0            1        0               0  \n",
       "...              ...          ...      ...             ...  \n",
       "9573               2            0        0               1  \n",
       "9574               5            0        0               1  \n",
       "9575               8            0        0               1  \n",
       "9576               5            0        0               1  \n",
       "9577               6            0        0               1  \n",
       "\n",
       "[9578 rows x 14 columns]"
      ]
     },
     "execution_count": 3,
     "metadata": {},
     "output_type": "execute_result"
    }
   ],
   "source": [
    "data"
   ]
  },
  {
   "cell_type": "code",
   "execution_count": 4,
   "id": "fd3b323d-ab4e-4bb3-9698-b7fda83116fa",
   "metadata": {},
   "outputs": [
    {
     "name": "stdout",
     "output_type": "stream",
     "text": [
      "<class 'pandas.core.frame.DataFrame'>\n",
      "RangeIndex: 9578 entries, 0 to 9577\n",
      "Data columns (total 14 columns):\n",
      " #   Column             Non-Null Count  Dtype  \n",
      "---  ------             --------------  -----  \n",
      " 0   credit.policy      9578 non-null   int64  \n",
      " 1   purpose            9578 non-null   object \n",
      " 2   int.rate           9578 non-null   float64\n",
      " 3   installment        9578 non-null   float64\n",
      " 4   log.annual.inc     9578 non-null   float64\n",
      " 5   dti                9578 non-null   float64\n",
      " 6   fico               9578 non-null   int64  \n",
      " 7   days.with.cr.line  9578 non-null   float64\n",
      " 8   revol.bal          9578 non-null   int64  \n",
      " 9   revol.util         9578 non-null   float64\n",
      " 10  inq.last.6mths     9578 non-null   int64  \n",
      " 11  delinq.2yrs        9578 non-null   int64  \n",
      " 12  pub.rec            9578 non-null   int64  \n",
      " 13  not.fully.paid     9578 non-null   int64  \n",
      "dtypes: float64(6), int64(7), object(1)\n",
      "memory usage: 1.0+ MB\n"
     ]
    }
   ],
   "source": [
    "data.info()"
   ]
  },
  {
   "cell_type": "code",
   "execution_count": 5,
   "id": "2a20f48d-ac27-488b-8c40-475e208083af",
   "metadata": {},
   "outputs": [
    {
     "data": {
      "text/plain": [
       "0    8045\n",
       "1    1533\n",
       "Name: not.fully.paid, dtype: int64"
      ]
     },
     "execution_count": 5,
     "metadata": {},
     "output_type": "execute_result"
    }
   ],
   "source": [
    "data['not.fully.paid'].value_counts()"
   ]
  },
  {
   "cell_type": "markdown",
   "id": "6be6d1fb-f2d6-404b-afc4-48fddb941917",
   "metadata": {},
   "source": [
    "# Exploratory data analysis of different factors of the dataset."
   ]
  },
  {
   "cell_type": "code",
   "execution_count": 6,
   "id": "376029b9-0ab1-420b-988c-3d34995e5613",
   "metadata": {},
   "outputs": [
    {
     "data": {
      "text/plain": [
       "<AxesSubplot: >"
      ]
     },
     "execution_count": 6,
     "metadata": {},
     "output_type": "execute_result"
    },
    {
     "data": {
      "image/png": "[encoded data removed]",
      "text/plain": [
       "<Figure size 432x288 with 1 Axes>"
      ]
     },
     "metadata": {
      "needs_background": "light"
     },
     "output_type": "display_data"
    }
   ],
   "source": [
    "data['not.fully.paid'].value_counts().plot(kind='bar')"
   ]
  },
  {
   "cell_type": "code",
   "execution_count": 8,
   "id": "4d44dd76-725f-49e0-9b70-caa9e85cd750",
   "metadata": {},
   "outputs": [
    {
     "data": {
      "image/png": "[encoded data removed]",
      "text/plain": [
       "<Figure size 792x504 with 1 Axes>"
      ]
     },
     "metadata": {
      "needs_background": "light"
     },
     "output_type": "display_data"
    }
   ],
   "source": [
    "# purpose\n",
    "plt.figure(figsize=(11,7))\n",
    "sns.countplot(x=data['purpose'])\n",
    "plt.show()"
   ]
  },
  {
   "cell_type": "code",
   "execution_count": 9,
   "id": "2418287f-a7cb-4a7a-bc7f-ea8e7a78107e",
   "metadata": {},
   "outputs": [
    {
     "data": {
      "image/png": "[encoded data removed]",
      "text/plain": [
       "<Figure size 792x504 with 1 Axes>"
      ]
     },
     "metadata": {
      "needs_background": "light"
     },
     "output_type": "display_data"
    }
   ],
   "source": [
    "# purpose\n",
    "plt.figure(figsize=(11,7))\n",
    "sns.countplot(x=data['purpose'],hue='not.fully.paid',data=data)\n",
    "plt.show()"
   ]
  },
  {
   "cell_type": "markdown",
   "id": "5ccd672c-8f13-4da7-b082-d4f89a25aace",
   "metadata": {},
   "source": [
    "# handle imbalanced data\n"
   ]
  },
  {
   "cell_type": "code",
   "execution_count": 10,
   "id": "b4f2eeea-2cd6-4065-95b3-ae7a3ef42087",
   "metadata": {},
   "outputs": [],
   "source": [
    "not_fully_paid_0=data[data['not.fully.paid']==0]\n",
    "not_fully_paid_1=data[data['not.fully.paid']==1]"
   ]
  },
  {
   "cell_type": "code",
   "execution_count": 11,
   "id": "2a97d90b-1f23-4d49-ab84-9cc47e858759",
   "metadata": {},
   "outputs": [
    {
     "data": {
      "text/plain": [
       "(8045, 14)"
      ]
     },
     "execution_count": 11,
     "metadata": {},
     "output_type": "execute_result"
    }
   ],
   "source": [
    "not_fully_paid_0.shape"
   ]
  },
  {
   "cell_type": "code",
   "execution_count": 12,
   "id": "e8d83bc3-a23c-492a-9fbd-cc3113ca703c",
   "metadata": {},
   "outputs": [
    {
     "data": {
      "text/plain": [
       "(1533, 14)"
      ]
     },
     "execution_count": 12,
     "metadata": {},
     "output_type": "execute_result"
    }
   ],
   "source": [
    "not_fully_paid_1.shape"
   ]
  },
  {
   "cell_type": "code",
   "execution_count": 14,
   "id": "84268e32-efb4-448d-99b0-13e981c3dfe8",
   "metadata": {},
   "outputs": [],
   "source": [
    "# resample\n",
    "from sklearn.utils import resample\n",
    "minor_upsample=resample(not_fully_paid_1,replace=True,n_samples=8045)\n",
    "new_df=pd.concat([not_fully_paid_0,minor_upsample])\n",
    "\n",
    "# shuffle\n",
    "from sklearn.utils import shuffle\n",
    "new_df=shuffle(new_df)"
   ]
  },
  {
   "cell_type": "markdown",
   "id": "b18d0c8a-3280-465c-aa4d-061a6f3e4a20",
   "metadata": {},
   "source": [
    "# Feture Transformation"
   ]
  },
  {
   "cell_type": "code",
   "execution_count": 17,
   "id": "29134962-7353-404e-b6ec-fc828a50fb30",
   "metadata": {},
   "outputs": [
    {
     "data": {
      "text/plain": [
       "credit.policy          int64\n",
       "purpose               object\n",
       "int.rate             float64\n",
       "installment          float64\n",
       "log.annual.inc       float64\n",
       "dti                  float64\n",
       "fico                   int64\n",
       "days.with.cr.line    float64\n",
       "revol.bal              int64\n",
       "revol.util           float64\n",
       "inq.last.6mths         int64\n",
       "delinq.2yrs            int64\n",
       "pub.rec                int64\n",
       "not.fully.paid         int64\n",
       "dtype: object"
      ]
     },
     "execution_count": 17,
     "metadata": {},
     "output_type": "execute_result"
    }
   ],
   "source": [
    "new_df.dtypes"
   ]
  },
  {
   "cell_type": "code",
   "execution_count": 18,
   "id": "001758dc-8ae3-48e5-8976-403b2f245c10",
   "metadata": {},
   "outputs": [],
   "source": [
    "# apply encoding\n",
    "from sklearn.preprocessing import LabelEncoder\n",
    "le=LabelEncoder()"
   ]
  },
  {
   "cell_type": "code",
   "execution_count": 19,
   "id": "7a4866bb-30a4-4db2-bdc2-0aaf65a236e4",
   "metadata": {},
   "outputs": [],
   "source": [
    "for i in new_df.columns:\n",
    "    if new_df[i].dtypes=='object':\n",
    "        new_df[i]=le.fit_transform(new_df[i])"
   ]
  },
  {
   "cell_type": "code",
   "execution_count": 20,
   "id": "a4e1608e-7c9d-4657-addc-f2fcfa74e3b2",
   "metadata": {},
   "outputs": [
    {
     "data": {
      "text/html": [
       "<div>\n",
       "<style scoped>\n",
       "    .dataframe tbody tr th:only-of-type {\n",
       "        vertical-align: middle;\n",
       "    }\n",
       "\n",
       "    .dataframe tbody tr th {\n",
       "        vertical-align: top;\n",
       "    }\n",
       "\n",
       "    .dataframe thead th {\n",
       "        text-align: right;\n",
       "    }\n",
       "</style>\n",
       "<table border=\"1\" class=\"dataframe\">\n",
       "  <thead>\n",
       "    <tr style=\"text-align: right;\">\n",
       "      <th></th>\n",
       "      <th>credit.policy</th>\n",
       "      <th>purpose</th>\n",
       "      <th>int.rate</th>\n",
       "      <th>installment</th>\n",
       "      <th>log.annual.inc</th>\n",
       "      <th>dti</th>\n",
       "      <th>fico</th>\n",
       "      <th>days.with.cr.line</th>\n",
       "      <th>revol.bal</th>\n",
       "      <th>revol.util</th>\n",
       "      <th>inq.last.6mths</th>\n",
       "      <th>delinq.2yrs</th>\n",
       "      <th>pub.rec</th>\n",
       "      <th>not.fully.paid</th>\n",
       "    </tr>\n",
       "  </thead>\n",
       "  <tbody>\n",
       "    <tr>\n",
       "      <th>5865</th>\n",
       "      <td>1</td>\n",
       "      <td>0</td>\n",
       "      <td>0.1148</td>\n",
       "      <td>164.85</td>\n",
       "      <td>10.308953</td>\n",
       "      <td>16.40</td>\n",
       "      <td>782</td>\n",
       "      <td>5910.041667</td>\n",
       "      <td>1149</td>\n",
       "      <td>23.9</td>\n",
       "      <td>0</td>\n",
       "      <td>0</td>\n",
       "      <td>0</td>\n",
       "      <td>0</td>\n",
       "    </tr>\n",
       "    <tr>\n",
       "      <th>2529</th>\n",
       "      <td>1</td>\n",
       "      <td>2</td>\n",
       "      <td>0.1474</td>\n",
       "      <td>189.96</td>\n",
       "      <td>10.195560</td>\n",
       "      <td>21.33</td>\n",
       "      <td>672</td>\n",
       "      <td>3450.000000</td>\n",
       "      <td>12041</td>\n",
       "      <td>59.3</td>\n",
       "      <td>3</td>\n",
       "      <td>0</td>\n",
       "      <td>0</td>\n",
       "      <td>0</td>\n",
       "    </tr>\n",
       "    <tr>\n",
       "      <th>8685</th>\n",
       "      <td>0</td>\n",
       "      <td>2</td>\n",
       "      <td>0.0976</td>\n",
       "      <td>96.47</td>\n",
       "      <td>9.472397</td>\n",
       "      <td>5.45</td>\n",
       "      <td>702</td>\n",
       "      <td>660.000000</td>\n",
       "      <td>1470</td>\n",
       "      <td>21.6</td>\n",
       "      <td>0</td>\n",
       "      <td>0</td>\n",
       "      <td>0</td>\n",
       "      <td>1</td>\n",
       "    </tr>\n",
       "    <tr>\n",
       "      <th>3519</th>\n",
       "      <td>1</td>\n",
       "      <td>0</td>\n",
       "      <td>0.1284</td>\n",
       "      <td>235.33</td>\n",
       "      <td>9.574983</td>\n",
       "      <td>3.00</td>\n",
       "      <td>707</td>\n",
       "      <td>1199.958333</td>\n",
       "      <td>3449</td>\n",
       "      <td>19.7</td>\n",
       "      <td>2</td>\n",
       "      <td>0</td>\n",
       "      <td>0</td>\n",
       "      <td>1</td>\n",
       "    </tr>\n",
       "    <tr>\n",
       "      <th>5515</th>\n",
       "      <td>1</td>\n",
       "      <td>2</td>\n",
       "      <td>0.1635</td>\n",
       "      <td>556.44</td>\n",
       "      <td>10.778956</td>\n",
       "      <td>18.13</td>\n",
       "      <td>717</td>\n",
       "      <td>1620.000000</td>\n",
       "      <td>5481</td>\n",
       "      <td>99.7</td>\n",
       "      <td>0</td>\n",
       "      <td>0</td>\n",
       "      <td>0</td>\n",
       "      <td>0</td>\n",
       "    </tr>\n",
       "  </tbody>\n",
       "</table>\n",
       "</div>"
      ],
      "text/plain": [
       "      credit.policy  purpose  int.rate  installment  log.annual.inc    dti  \\\n",
       "5865              1        0    0.1148       164.85       10.308953  16.40   \n",
       "2529              1        2    0.1474       189.96       10.195560  21.33   \n",
       "8685              0        2    0.0976        96.47        9.472397   5.45   \n",
       "3519              1        0    0.1284       235.33        9.574983   3.00   \n",
       "5515              1        2    0.1635       556.44       10.778956  18.13   \n",
       "\n",
       "      fico  days.with.cr.line  revol.bal  revol.util  inq.last.6mths  \\\n",
       "5865   782        5910.041667       1149        23.9               0   \n",
       "2529   672        3450.000000      12041        59.3               3   \n",
       "8685   702         660.000000       1470        21.6               0   \n",
       "3519   707        1199.958333       3449        19.7               2   \n",
       "5515   717        1620.000000       5481        99.7               0   \n",
       "\n",
       "      delinq.2yrs  pub.rec  not.fully.paid  \n",
       "5865            0        0               0  \n",
       "2529            0        0               0  \n",
       "8685            0        0               1  \n",
       "3519            0        0               1  \n",
       "5515            0        0               0  "
      ]
     },
     "execution_count": 20,
     "metadata": {},
     "output_type": "execute_result"
    }
   ],
   "source": [
    "new_df.head()"
   ]
  },
  {
   "cell_type": "code",
   "execution_count": 21,
   "id": "eb20210e-77bb-4353-83f9-4935640539ce",
   "metadata": {},
   "outputs": [
    {
     "data": {
      "text/plain": [
       "2    6482\n",
       "0    3995\n",
       "1    1872\n",
       "6    1379\n",
       "4    1110\n",
       "5     636\n",
       "3     616\n",
       "Name: purpose, dtype: int64"
      ]
     },
     "execution_count": 21,
     "metadata": {},
     "output_type": "execute_result"
    }
   ],
   "source": [
    "new_df['purpose'].value_counts()"
   ]
  },
  {
   "cell_type": "markdown",
   "id": "b991a0fe-acca-45a2-b08a-7e8e2739f6a7",
   "metadata": {},
   "source": [
    "# Feature Engineering"
   ]
  },
  {
   "cell_type": "code",
   "execution_count": 22,
   "id": "e047112d-6e4c-40aa-bcba-c74619365a39",
   "metadata": {},
   "outputs": [
    {
     "data": {
      "image/png": "[encoded data removed]",
      "text/plain": [
       "<Figure size 792x504 with 2 Axes>"
      ]
     },
     "metadata": {
      "needs_background": "light"
     },
     "output_type": "display_data"
    }
   ],
   "source": [
    "plt.figure(figsize=(11,7))\n",
    "sns.heatmap(new_df.corr(),annot=True)\n",
    "plt.show()"
   ]
  },
  {
   "cell_type": "code",
   "execution_count": 23,
   "id": "d72b5c75-3edf-4874-8474-3ea1889c2df3",
   "metadata": {},
   "outputs": [
    {
     "data": {
      "text/plain": [
       "not.fully.paid       1.000000\n",
       "int.rate             0.206792\n",
       "fico                 0.201338\n",
       "credit.policy        0.198442\n",
       "inq.last.6mths       0.172397\n",
       "revol.util           0.106243\n",
       "installment          0.071208\n",
       "purpose              0.065341\n",
       "pub.rec              0.063913\n",
       "revol.bal            0.058159\n",
       "log.annual.inc       0.050997\n",
       "days.with.cr.line    0.044979\n",
       "dti                  0.043962\n",
       "delinq.2yrs          0.012507\n",
       "Name: not.fully.paid, dtype: float64"
      ]
     },
     "execution_count": 23,
     "metadata": {},
     "output_type": "execute_result"
    }
   ],
   "source": [
    "# see the corr\n",
    "new_df.corr().abs()['not.fully.paid'].sort_values(ascending=False)"
   ]
  },
  {
   "cell_type": "code",
   "execution_count": 24,
   "id": "201bf081-9325-415f-a478-45a013ebcdbc",
   "metadata": {},
   "outputs": [
    {
     "data": {
      "text/plain": [
       "Index(['credit.policy', 'purpose', 'int.rate', 'installment', 'log.annual.inc',\n",
       "       'dti', 'fico', 'days.with.cr.line', 'revol.bal', 'revol.util',\n",
       "       'inq.last.6mths', 'delinq.2yrs', 'pub.rec', 'not.fully.paid'],\n",
       "      dtype='object')"
      ]
     },
     "execution_count": 24,
     "metadata": {},
     "output_type": "execute_result"
    }
   ],
   "source": [
    "new_df.columns"
   ]
  },
  {
   "cell_type": "code",
   "execution_count": 25,
   "id": "3f7034b8-8467-4d36-9f79-92957cd45a8a",
   "metadata": {},
   "outputs": [],
   "source": [
    "# prepare the data\n",
    "X=new_df[['credit.policy', 'purpose', 'int.rate', 'installment', 'log.annual.inc',\n",
    "        'fico', 'revol.bal', 'revol.util',\n",
    "       'inq.last.6mths', 'pub.rec']]"
   ]
  },
  {
   "cell_type": "code",
   "execution_count": 26,
   "id": "8a435b2c-a7bc-4750-b755-c30eb1f8d0bb",
   "metadata": {},
   "outputs": [
    {
     "data": {
      "text/plain": [
       "(16090, 10)"
      ]
     },
     "execution_count": 26,
     "metadata": {},
     "output_type": "execute_result"
    }
   ],
   "source": [
    "X.shape"
   ]
  },
  {
   "cell_type": "code",
   "execution_count": 27,
   "id": "854022e1-3d14-447a-8d2c-764f1b77bba4",
   "metadata": {},
   "outputs": [],
   "source": [
    "y=new_df[['not.fully.paid']]"
   ]
  },
  {
   "cell_type": "code",
   "execution_count": 28,
   "id": "2331d3a0-3117-40a1-bb9f-3eec3ee8dff0",
   "metadata": {},
   "outputs": [],
   "source": [
    "# create train set & test set\n",
    "from sklearn.model_selection import train_test_split\n",
    "X_train,X_test,y_train,y_test=train_test_split(X,y,test_size=0.2,random_state=42)"
   ]
  },
  {
   "cell_type": "code",
   "execution_count": 29,
   "id": "b6290f88-beb0-4d5f-9a13-24d699b64d2e",
   "metadata": {},
   "outputs": [],
   "source": [
    "# Apply standard scaling\n",
    "from sklearn.preprocessing import StandardScaler\n",
    "sc=StandardScaler()\n",
    "X_train=sc.fit_transform(X_train)\n",
    "X_test=sc.transform(X_test)"
   ]
  },
  {
   "cell_type": "code",
   "execution_count": 30,
   "id": "ff3d1a6d-6621-4058-bf2f-7e422627af1b",
   "metadata": {},
   "outputs": [
    {
     "name": "stdout",
     "output_type": "stream",
     "text": [
      "Imported\n"
     ]
    }
   ],
   "source": [
    "# Import library\n",
    "from tensorflow.keras.models import Sequential\n",
    "from tensorflow.keras.layers import Dense,Dropout,BatchNormalization\n",
    "from tensorflow.keras.callbacks import EarlyStopping\n",
    "print('Imported')"
   ]
  },
  {
   "cell_type": "code",
   "execution_count": 31,
   "id": "6b3ff61a-e1ad-4af5-8f43-ff6ac9063be6",
   "metadata": {},
   "outputs": [],
   "source": [
    "# Create Architecture\n",
    "# Create a ANN with 2 hidden layers, first hidden layer 19 units, second layer 10 neuron , activation relu,\n",
    "# dropout .25, batchnormalization"
   ]
  },
  {
   "cell_type": "code",
   "execution_count": 45,
   "id": "ccd3c39c-bc9e-4ec1-a79e-57d9d95a690f",
   "metadata": {},
   "outputs": [],
   "source": [
    "# create architecture\n",
    "# create ANN with 2 hidden layers, first hidden layer 19 neurons, second hidden layer 10 neurons, activation relu\n",
    "# dropout 0.25, batchnormisation\n",
    "model=Sequential()\n",
    "# first hidden layer\n",
    "model.add(Dense(19,activation='relu',input_shape=(10,)))\n",
    "model.add(Dropout(0.25))\n",
    "model.add(BatchNormalization())\n",
    "# second hidden layer\n",
    "model.add(Dense(10,activation='relu'))\n",
    "model.add(Dropout(0.25))\n",
    "model.add(BatchNormalization())\n",
    "# third hidden layer\n",
    "model.add(Dense(10,activation='relu'))\n",
    "model.add(Dropout(0.25))\n",
    "model.add(BatchNormalization())\n",
    "\n",
    "# output layer\n",
    "model.add(Dense(1,activation='sigmoid'))"
   ]
  },
  {
   "cell_type": "code",
   "execution_count": 46,
   "id": "803b9840-9030-49c4-ace8-d7359d86b9d1",
   "metadata": {},
   "outputs": [
    {
     "name": "stdout",
     "output_type": "stream",
     "text": [
      "Model: \"sequential_2\"\n",
      "_________________________________________________________________\n",
      " Layer (type)                Output Shape              Param #   \n",
      "=================================================================\n",
      " dense_6 (Dense)             (None, 19)                209       \n",
      "                                                                 \n",
      " dropout_4 (Dropout)         (None, 19)                0         \n",
      "                                                                 \n",
      " batch_normalization_4 (Bat  (None, 19)                76        \n",
      " chNormalization)                                                \n",
      "                                                                 \n",
      " dense_7 (Dense)             (None, 10)                200       \n",
      "                                                                 \n",
      " dropout_5 (Dropout)         (None, 10)                0         \n",
      "                                                                 \n",
      " batch_normalization_5 (Bat  (None, 10)                40        \n",
      " chNormalization)                                                \n",
      "                                                                 \n",
      " dense_8 (Dense)             (None, 10)                110       \n",
      "                                                                 \n",
      " dropout_6 (Dropout)         (None, 10)                0         \n",
      "                                                                 \n",
      " batch_normalization_6 (Bat  (None, 10)                40        \n",
      " chNormalization)                                                \n",
      "                                                                 \n",
      " dense_9 (Dense)             (None, 1)                 11        \n",
      "                                                                 \n",
      "=================================================================\n",
      "Total params: 686 (2.68 KB)\n",
      "Trainable params: 608 (2.38 KB)\n",
      "Non-trainable params: 78 (312.00 Byte)\n",
      "_________________________________________________________________\n"
     ]
    }
   ],
   "source": [
    "model.summary()"
   ]
  },
  {
   "cell_type": "code",
   "execution_count": 53,
   "id": "e47e67b5-e954-43fc-8d72-705ecc377d26",
   "metadata": {},
   "outputs": [],
   "source": [
    "# compile the model\n",
    "model.compile(loss='binary_crossentropy',optimizer='rmsprop',metrics=['accuracy'])"
   ]
  },
  {
   "cell_type": "code",
   "execution_count": 48,
   "id": "c6d5c3e4-56b5-4991-9f0a-8aa34eb1d248",
   "metadata": {},
   "outputs": [],
   "source": [
    "# Earlystopping\n",
    "early_stop=EarlyStopping(monitor='val_loss',\n",
    "                        min_delta=0.01,\n",
    "                        mode='min',verbose=1,\n",
    "                        patience=10)"
   ]
  },
  {
   "cell_type": "code",
   "execution_count": 49,
   "id": "547a24ba-e609-45ef-88eb-9f96fee0df4e",
   "metadata": {},
   "outputs": [
    {
     "name": "stdout",
     "output_type": "stream",
     "text": [
      "Epoch 1/50\n",
      "51/51 [==============================] - 1s 5ms/step - loss: 0.8592 - accuracy: 0.5061 - val_loss: 0.6907 - val_accuracy: 0.5370\n",
      "Epoch 2/50\n",
      "51/51 [==============================] - 0s 2ms/step - loss: 0.7672 - accuracy: 0.5239 - val_loss: 0.6763 - val_accuracy: 0.5674\n",
      "Epoch 3/50\n",
      "51/51 [==============================] - 0s 2ms/step - loss: 0.7300 - accuracy: 0.5456 - val_loss: 0.6693 - val_accuracy: 0.5867\n",
      "Epoch 4/50\n",
      "51/51 [==============================] - 0s 2ms/step - loss: 0.7155 - accuracy: 0.5569 - val_loss: 0.6655 - val_accuracy: 0.5904\n",
      "Epoch 5/50\n",
      "51/51 [==============================] - 0s 2ms/step - loss: 0.7070 - accuracy: 0.5534 - val_loss: 0.6626 - val_accuracy: 0.5879\n",
      "Epoch 6/50\n",
      "51/51 [==============================] - 0s 2ms/step - loss: 0.6944 - accuracy: 0.5594 - val_loss: 0.6605 - val_accuracy: 0.5889\n",
      "Epoch 7/50\n",
      "51/51 [==============================] - 0s 2ms/step - loss: 0.6912 - accuracy: 0.5567 - val_loss: 0.6581 - val_accuracy: 0.5935\n",
      "Epoch 8/50\n",
      "51/51 [==============================] - 0s 2ms/step - loss: 0.6840 - accuracy: 0.5681 - val_loss: 0.6566 - val_accuracy: 0.5926\n",
      "Epoch 9/50\n",
      "51/51 [==============================] - 0s 2ms/step - loss: 0.6781 - accuracy: 0.5775 - val_loss: 0.6554 - val_accuracy: 0.5945\n",
      "Epoch 10/50\n",
      "51/51 [==============================] - 0s 2ms/step - loss: 0.6764 - accuracy: 0.5723 - val_loss: 0.6540 - val_accuracy: 0.5938\n",
      "Epoch 11/50\n",
      "51/51 [==============================] - 0s 2ms/step - loss: 0.6744 - accuracy: 0.5720 - val_loss: 0.6525 - val_accuracy: 0.5957\n",
      "Epoch 12/50\n",
      "51/51 [==============================] - 0s 2ms/step - loss: 0.6719 - accuracy: 0.5825 - val_loss: 0.6518 - val_accuracy: 0.5973\n",
      "Epoch 13/50\n",
      "51/51 [==============================] - 0s 2ms/step - loss: 0.6707 - accuracy: 0.5792 - val_loss: 0.6508 - val_accuracy: 0.5976\n",
      "Epoch 14/50\n",
      "51/51 [==============================] - 0s 2ms/step - loss: 0.6679 - accuracy: 0.5867 - val_loss: 0.6506 - val_accuracy: 0.6053\n",
      "Epoch 15/50\n",
      "51/51 [==============================] - 0s 2ms/step - loss: 0.6659 - accuracy: 0.5937 - val_loss: 0.6496 - val_accuracy: 0.6013\n",
      "Epoch 16/50\n",
      "51/51 [==============================] - 0s 2ms/step - loss: 0.6652 - accuracy: 0.5900 - val_loss: 0.6491 - val_accuracy: 0.6057\n",
      "Epoch 17/50\n",
      "51/51 [==============================] - 0s 2ms/step - loss: 0.6643 - accuracy: 0.5896 - val_loss: 0.6488 - val_accuracy: 0.6060\n",
      "Epoch 18/50\n",
      "51/51 [==============================] - 0s 2ms/step - loss: 0.6592 - accuracy: 0.6017 - val_loss: 0.6483 - val_accuracy: 0.6060\n",
      "Epoch 19/50\n",
      "51/51 [==============================] - 0s 2ms/step - loss: 0.6622 - accuracy: 0.5956 - val_loss: 0.6479 - val_accuracy: 0.6063\n",
      "Epoch 19: early stopping\n"
     ]
    }
   ],
   "source": [
    "history=model.fit(X_train,y_train,\n",
    "                 epochs=50,\n",
    "                 batch_size=256,\n",
    "                validation_data=(X_test,y_test),\n",
    "                  callbacks=[early_stop]\n",
    "                 )"
   ]
  },
  {
   "cell_type": "code",
   "execution_count": 54,
   "id": "53d74bb2-11df-4301-8444-056895b2806d",
   "metadata": {},
   "outputs": [
    {
     "name": "stdout",
     "output_type": "stream",
     "text": [
      "Epoch 1/50\n",
      "51/51 [==============================] - 1s 5ms/step - loss: 0.6438 - accuracy: 0.6264 - val_loss: 0.6362 - val_accuracy: 0.6361\n",
      "Epoch 2/50\n",
      "51/51 [==============================] - 0s 2ms/step - loss: 0.6441 - accuracy: 0.6275 - val_loss: 0.6360 - val_accuracy: 0.6352\n",
      "Epoch 3/50\n",
      "51/51 [==============================] - 0s 2ms/step - loss: 0.6408 - accuracy: 0.6341 - val_loss: 0.6356 - val_accuracy: 0.6377\n",
      "Epoch 4/50\n",
      "51/51 [==============================] - 0s 2ms/step - loss: 0.6425 - accuracy: 0.6264 - val_loss: 0.6361 - val_accuracy: 0.6352\n",
      "Epoch 5/50\n",
      "51/51 [==============================] - 0s 2ms/step - loss: 0.6419 - accuracy: 0.6287 - val_loss: 0.6360 - val_accuracy: 0.6361\n",
      "Epoch 6/50\n",
      "51/51 [==============================] - 0s 2ms/step - loss: 0.6424 - accuracy: 0.6334 - val_loss: 0.6359 - val_accuracy: 0.6352\n",
      "Epoch 7/50\n",
      "51/51 [==============================] - 0s 2ms/step - loss: 0.6423 - accuracy: 0.6316 - val_loss: 0.6358 - val_accuracy: 0.6352\n",
      "Epoch 8/50\n",
      "51/51 [==============================] - 0s 2ms/step - loss: 0.6407 - accuracy: 0.6277 - val_loss: 0.6354 - val_accuracy: 0.6367\n",
      "Epoch 9/50\n",
      "51/51 [==============================] - 0s 2ms/step - loss: 0.6435 - accuracy: 0.6276 - val_loss: 0.6355 - val_accuracy: 0.6374\n",
      "Epoch 10/50\n",
      "51/51 [==============================] - 0s 2ms/step - loss: 0.6423 - accuracy: 0.6273 - val_loss: 0.6353 - val_accuracy: 0.6364\n",
      "Epoch 11/50\n",
      "51/51 [==============================] - 0s 2ms/step - loss: 0.6426 - accuracy: 0.6259 - val_loss: 0.6355 - val_accuracy: 0.6386\n",
      "Epoch 12/50\n",
      "51/51 [==============================] - 0s 2ms/step - loss: 0.6424 - accuracy: 0.6284 - val_loss: 0.6348 - val_accuracy: 0.6358\n",
      "Epoch 13/50\n",
      "51/51 [==============================] - 0s 2ms/step - loss: 0.6403 - accuracy: 0.6267 - val_loss: 0.6342 - val_accuracy: 0.6383\n",
      "Epoch 14/50\n",
      "51/51 [==============================] - 0s 2ms/step - loss: 0.6384 - accuracy: 0.6281 - val_loss: 0.6344 - val_accuracy: 0.6423\n",
      "Epoch 15/50\n",
      "51/51 [==============================] - 0s 2ms/step - loss: 0.6397 - accuracy: 0.6297 - val_loss: 0.6341 - val_accuracy: 0.6395\n",
      "Epoch 16/50\n",
      "51/51 [==============================] - 0s 2ms/step - loss: 0.6413 - accuracy: 0.6284 - val_loss: 0.6347 - val_accuracy: 0.6389\n",
      "Epoch 17/50\n",
      "51/51 [==============================] - 0s 2ms/step - loss: 0.6397 - accuracy: 0.6321 - val_loss: 0.6345 - val_accuracy: 0.6374\n",
      "Epoch 18/50\n",
      "51/51 [==============================] - 0s 2ms/step - loss: 0.6416 - accuracy: 0.6277 - val_loss: 0.6343 - val_accuracy: 0.6364\n",
      "Epoch 19/50\n",
      "51/51 [==============================] - 0s 2ms/step - loss: 0.6394 - accuracy: 0.6356 - val_loss: 0.6336 - val_accuracy: 0.6361\n",
      "Epoch 20/50\n",
      "51/51 [==============================] - 0s 2ms/step - loss: 0.6392 - accuracy: 0.6295 - val_loss: 0.6337 - val_accuracy: 0.6370\n",
      "Epoch 21/50\n",
      "51/51 [==============================] - 0s 2ms/step - loss: 0.6426 - accuracy: 0.6319 - val_loss: 0.6347 - val_accuracy: 0.6358\n",
      "Epoch 22/50\n",
      "51/51 [==============================] - 0s 2ms/step - loss: 0.6396 - accuracy: 0.6274 - val_loss: 0.6344 - val_accuracy: 0.6377\n",
      "Epoch 23/50\n",
      "51/51 [==============================] - 0s 2ms/step - loss: 0.6392 - accuracy: 0.6328 - val_loss: 0.6338 - val_accuracy: 0.6383\n",
      "Epoch 24/50\n",
      "51/51 [==============================] - 0s 2ms/step - loss: 0.6399 - accuracy: 0.6296 - val_loss: 0.6339 - val_accuracy: 0.6386\n",
      "Epoch 25/50\n",
      "51/51 [==============================] - 0s 2ms/step - loss: 0.6377 - accuracy: 0.6326 - val_loss: 0.6332 - val_accuracy: 0.6380\n",
      "Epoch 26/50\n",
      "51/51 [==============================] - 0s 2ms/step - loss: 0.6384 - accuracy: 0.6336 - val_loss: 0.6339 - val_accuracy: 0.6386\n",
      "Epoch 27/50\n",
      "51/51 [==============================] - 0s 2ms/step - loss: 0.6392 - accuracy: 0.6325 - val_loss: 0.6334 - val_accuracy: 0.6333\n",
      "Epoch 28/50\n",
      "51/51 [==============================] - 0s 2ms/step - loss: 0.6396 - accuracy: 0.6303 - val_loss: 0.6336 - val_accuracy: 0.6389\n",
      "Epoch 29/50\n",
      "51/51 [==============================] - 0s 2ms/step - loss: 0.6378 - accuracy: 0.6323 - val_loss: 0.6334 - val_accuracy: 0.6386\n",
      "Epoch 30/50\n",
      "51/51 [==============================] - 0s 2ms/step - loss: 0.6400 - accuracy: 0.6325 - val_loss: 0.6336 - val_accuracy: 0.6370\n",
      "Epoch 31/50\n",
      "51/51 [==============================] - 0s 2ms/step - loss: 0.6400 - accuracy: 0.6317 - val_loss: 0.6338 - val_accuracy: 0.6364\n",
      "Epoch 32/50\n",
      "51/51 [==============================] - 0s 2ms/step - loss: 0.6381 - accuracy: 0.6293 - val_loss: 0.6337 - val_accuracy: 0.6380\n",
      "Epoch 33/50\n",
      "51/51 [==============================] - 0s 2ms/step - loss: 0.6392 - accuracy: 0.6370 - val_loss: 0.6328 - val_accuracy: 0.6401\n",
      "Epoch 34/50\n",
      "51/51 [==============================] - 0s 2ms/step - loss: 0.6377 - accuracy: 0.6288 - val_loss: 0.6329 - val_accuracy: 0.6374\n",
      "Epoch 35/50\n",
      "51/51 [==============================] - 0s 2ms/step - loss: 0.6396 - accuracy: 0.6327 - val_loss: 0.6324 - val_accuracy: 0.6377\n",
      "Epoch 36/50\n",
      "51/51 [==============================] - 0s 2ms/step - loss: 0.6394 - accuracy: 0.6345 - val_loss: 0.6329 - val_accuracy: 0.6423\n",
      "Epoch 37/50\n",
      "51/51 [==============================] - 0s 2ms/step - loss: 0.6413 - accuracy: 0.6338 - val_loss: 0.6327 - val_accuracy: 0.6374\n",
      "Epoch 38/50\n",
      "51/51 [==============================] - 0s 2ms/step - loss: 0.6370 - accuracy: 0.6330 - val_loss: 0.6322 - val_accuracy: 0.6411\n",
      "Epoch 39/50\n",
      "51/51 [==============================] - 0s 2ms/step - loss: 0.6363 - accuracy: 0.6384 - val_loss: 0.6321 - val_accuracy: 0.6395\n",
      "Epoch 40/50\n",
      "51/51 [==============================] - 0s 2ms/step - loss: 0.6370 - accuracy: 0.6339 - val_loss: 0.6323 - val_accuracy: 0.6395\n",
      "Epoch 41/50\n",
      "51/51 [==============================] - 0s 2ms/step - loss: 0.6354 - accuracy: 0.6332 - val_loss: 0.6319 - val_accuracy: 0.6423\n",
      "Epoch 42/50\n",
      "51/51 [==============================] - 0s 2ms/step - loss: 0.6371 - accuracy: 0.6342 - val_loss: 0.6322 - val_accuracy: 0.6374\n",
      "Epoch 43/50\n",
      "51/51 [==============================] - 0s 2ms/step - loss: 0.6366 - accuracy: 0.6356 - val_loss: 0.6321 - val_accuracy: 0.6405\n",
      "Epoch 44/50\n",
      "51/51 [==============================] - 0s 2ms/step - loss: 0.6342 - accuracy: 0.6382 - val_loss: 0.6317 - val_accuracy: 0.6377\n",
      "Epoch 45/50\n",
      "51/51 [==============================] - 0s 2ms/step - loss: 0.6384 - accuracy: 0.6325 - val_loss: 0.6323 - val_accuracy: 0.6408\n",
      "Epoch 46/50\n",
      "51/51 [==============================] - 0s 2ms/step - loss: 0.6350 - accuracy: 0.6371 - val_loss: 0.6312 - val_accuracy: 0.6411\n",
      "Epoch 47/50\n",
      "51/51 [==============================] - 0s 2ms/step - loss: 0.6384 - accuracy: 0.6344 - val_loss: 0.6319 - val_accuracy: 0.6405\n",
      "Epoch 48/50\n",
      "51/51 [==============================] - 0s 2ms/step - loss: 0.6365 - accuracy: 0.6328 - val_loss: 0.6316 - val_accuracy: 0.6395\n",
      "Epoch 49/50\n",
      "51/51 [==============================] - 0s 2ms/step - loss: 0.6389 - accuracy: 0.6313 - val_loss: 0.6316 - val_accuracy: 0.6417\n",
      "Epoch 50/50\n",
      "51/51 [==============================] - 0s 2ms/step - loss: 0.6359 - accuracy: 0.6372 - val_loss: 0.6303 - val_accuracy: 0.6445\n"
     ]
    }
   ],
   "source": [
    "history=model.fit(X_train,y_train,\n",
    "                 epochs=50,\n",
    "                 batch_size=256,\n",
    "                validation_data=(X_test,y_test),\n",
    "                \n",
    "                 )"
   ]
  },
  {
   "cell_type": "code",
   "execution_count": 55,
   "id": "cb6b9777-d490-487f-a089-f584efcf10de",
   "metadata": {},
   "outputs": [
    {
     "name": "stdout",
     "output_type": "stream",
     "text": [
      "101/101 [==============================] - 0s 742us/step - loss: 0.6303 - accuracy: 0.6445\n"
     ]
    }
   ],
   "source": [
    "# print accuracy & loss\n",
    "score=model.evaluate(X_test,y_test)"
   ]
  },
  {
   "cell_type": "code",
   "execution_count": 56,
   "id": "87f55541-152c-4b24-969b-768a13186f6b",
   "metadata": {},
   "outputs": [
    {
     "name": "stdout",
     "output_type": "stream",
     "text": [
      "403/403 [==============================] - 0s 795us/step - loss: 0.6252 - accuracy: 0.6457\n"
     ]
    }
   ],
   "source": [
    "score=model.evaluate(X_train,y_train)"
   ]
  },
  {
   "cell_type": "code",
   "execution_count": 57,
   "id": "5b141707-d418-4b46-a9fd-ed24caf3e4d0",
   "metadata": {},
   "outputs": [
    {
     "name": "stdout",
     "output_type": "stream",
     "text": [
      "101/101 [==============================] - 0s 728us/step\n"
     ]
    },
    {
     "data": {
      "text/plain": [
       "array([[0.63734937],\n",
       "       [0.34512028],\n",
       "       [0.52257425],\n",
       "       ...,\n",
       "       [0.4836382 ],\n",
       "       [0.40667808],\n",
       "       [0.4968209 ]], dtype=float32)"
      ]
     },
     "execution_count": 57,
     "metadata": {},
     "output_type": "execute_result"
    }
   ],
   "source": [
    "# predictions\n",
    "pred=model.predict(X_test)\n",
    "pred"
   ]
  },
  {
   "cell_type": "code",
   "execution_count": 59,
   "id": "e5c5e9fe-7d7e-4674-9cc8-f245784ddcd6",
   "metadata": {},
   "outputs": [
    {
     "data": {
      "text/plain": [
       "array([[1],\n",
       "       [0],\n",
       "       [1],\n",
       "       ...,\n",
       "       [0],\n",
       "       [0],\n",
       "       [0]])"
      ]
     },
     "execution_count": 59,
     "metadata": {},
     "output_type": "execute_result"
    }
   ],
   "source": [
    "predict=(pred>0.5).astype('int')\n",
    "predict"
   ]
  },
  {
   "cell_type": "code",
   "execution_count": 61,
   "id": "047abf2b-5c8e-4273-896e-6635007aee48",
   "metadata": {},
   "outputs": [
    {
     "name": "stdout",
     "output_type": "stream",
     "text": [
      "[[1098  536]\n",
      " [ 608  976]]\n"
     ]
    }
   ],
   "source": [
    "from sklearn.metrics import confusion_matrix\n",
    "print(confusion_matrix(y_test,predict))"
   ]
  },
  {
   "cell_type": "code",
   "execution_count": null,
   "id": "ead5ea63-2a9f-4a94-b675-92bf21abf6f4",
   "metadata": {},
   "outputs": [],
   "source": [
    "from sklearn.metrics import classification_report\n",
    "print(classification_report(y_test,predict))"
   ]
  }
 ],
 "metadata": {
  "kernelspec": {
   "display_name": "Python 3 [3.10]",
   "language": "python",
   "name": "python3"
  },
  "language_info": {
   "codemirror_mode": {
    "name": "ipython",
    "version": 3
   },
   "file_extension": ".py",
   "mimetype": "text/x-python",
   "name": "python",
   "nbconvert_exporter": "python",
   "pygments_lexer": "ipython3",
   "version": "3.10.2"
  }
 },
 "nbformat": 4,
 "nbformat_minor": 5
}

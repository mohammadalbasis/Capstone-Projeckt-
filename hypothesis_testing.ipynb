{
  "nbformat": 4,
  "nbformat_minor": 0,
  "metadata": {
    "colab": {
      "provenance": []
    },
    "kernelspec": {
      "name": "python3",
      "display_name": "Python 3"
    },
    "language_info": {
      "name": "python"
    }
  },
  "cells": [
    {
      "cell_type": "markdown",
      "source": [
        "# One sample t-test:\n",
        "The One Sample t-test ascertains if the sample average differs statistically from an actual or apposed population mean. A parametric testing technique is the One Sample t-test.\n",
        "\n",
        "Example: You are determining if the average age of 10 people is 30 or otherwise. Check the Python script below for the implementation."
      ],
      "metadata": {
        "id": "Ct0p8yJwOKRK"
      }
    },
    {
      "cell_type": "code",
      "execution_count": null,
      "metadata": {
        "colab": {
          "base_uri": "https://localhost:8080/"
        },
        "id": "szm3nqKcOIDn",
        "outputId": "60baf613-c943-44b3-cb1d-521bf59976f9"
      },
      "outputs": [
        {
          "output_type": "stream",
          "name": "stdout",
          "text": [
            "[45, 89, 23, 46, 12, 69, 45, 24, 34, 67]\n",
            "45.4\n",
            "P-value is:  0.49260884858714715\n",
            "We can accept the null hypothesis\n"
          ]
        }
      ],
      "source": [
        "# Python program to implement T-Test on a sample of ages\n",
        "\n",
        "# Importing the required libraries\n",
        "from scipy.stats import ttest_1samp\n",
        "import numpy as np\n",
        "\n",
        "# Creating a sample of ages\n",
        "ages = [45, 89, 23, 46, 12, 69, 45, 24, 34, 67]\n",
        "print(ages)\n",
        "\n",
        "# Calculating the mean of the sample\n",
        "mean = np.mean(ages)\n",
        "print(mean)\n",
        "\n",
        "# Performing the T-Test\n",
        "t_test, p_val = ttest_1samp(ages, 40)\n",
        "print(\"P-value is: \", p_val)\n",
        "\n",
        "# taking the threshold value as 0.05 or 5%\n",
        "if p_val < 0.05:\n",
        "    print(\" We can reject the null hypothesis\")\n",
        "else:\n",
        "    print(\"We can accept the null hypothesis\")"
      ]
    },
    {
      "cell_type": "markdown",
      "source": [
        "# Python program to implement Independent T-Test on the two independent samples"
      ],
      "metadata": {
        "id": "K-tVc__2bRJS"
      }
    },
    {
      "cell_type": "code",
      "source": [
        "\n",
        "\n",
        "# Importing the required libraries\n",
        "from scipy.stats import ttest_ind\n",
        "import numpy as np\n",
        "\n",
        "# Creating the data groups\n",
        "data_group1 = np.array([12, 18, 12, 13, 15, 1, 7,\n",
        "                        20, 21, 25, 19, 31, 21, 17,\n",
        "                        17, 15, 19, 15, 12, 15])\n",
        "data_group2 = np.array([23, 22, 24, 25, 21, 26, 21,\n",
        "                        21, 25, 30, 24, 21, 23, 19,\n",
        "                        14, 18, 14, 12, 19, 15])\n",
        "\n",
        "# Calculating the mean of the two data groups\n",
        "mean1 = np.mean(data_group1)\n",
        "mean2 = np.mean(data_group2)\n",
        "\n",
        "# Print mean values\n",
        "print(\"Data group 1 mean value:\", mean1)\n",
        "print(\"Data group 2 mean value:\", mean2)\n",
        "\n",
        "# Calculating standard deviation\n",
        "std1 = np.std(data_group1)\n",
        "std2 = np.std(data_group2)\n",
        "\n",
        "# Printing standard deviation values\n",
        "print(\"Data group 1 std value:\", std1)\n",
        "print(\"Data group 2 std value:\", std2)\n",
        "\n",
        "# Implementing the t-test\n",
        "t_test,p_val = ttest_ind(data_group1, data_group2)\n",
        "print(\"The P-value is: \", p_val)\n",
        "\n",
        "# taking the threshold value as 0.05 or 5%\n",
        "if p_val < 0.05:\n",
        "    print(\"We can reject the null hypothesis\")\n",
        "else:\n",
        "    print(\"We can accept the null hypothesis\")"
      ],
      "metadata": {
        "colab": {
          "base_uri": "https://localhost:8080/"
        },
        "id": "Bdv_38CJaLEQ",
        "outputId": "84a9589c-1a67-416d-cd89-ffb08ebd2c58"
      },
      "execution_count": null,
      "outputs": [
        {
          "output_type": "stream",
          "name": "stdout",
          "text": [
            "Data group 1 mean value: 16.25\n",
            "Data group 2 mean value: 20.85\n",
            "Data group 1 std value: 6.171507109288622\n",
            "Data group 2 std value: 4.452808102759426\n",
            "The P-value is:  0.012117171124028792\n",
            "We can reject the null hypothesis\n"
          ]
        }
      ]
    },
    {
      "cell_type": "code",
      "source": [
        "from statsmodels.stats.weightstats import ztest as ztest\n",
        "\n",
        "#enter IQ levels for 20 patients\n",
        "data = [88, 92, 94, 94, 96, 97, 97, 97, 99, 99,\n",
        "        105, 109, 109, 109, 110, 112, 112, 113, 114, 115]\n",
        "\n",
        "#perform one sample z-test\n",
        "ztest(data, value=100)\n",
        "\n",
        "(1.5976240527147705, 0.1101266701438426)"
      ],
      "metadata": {
        "colab": {
          "base_uri": "https://localhost:8080/"
        },
        "id": "cUSsnosJbSQP",
        "outputId": "ab9f68dd-5378-4553-c550-b689006266e0"
      },
      "execution_count": null,
      "outputs": [
        {
          "output_type": "execute_result",
          "data": {
            "text/plain": [
              "(1.5976240527147705, 0.1101266701438426)"
            ]
          },
          "metadata": {},
          "execution_count": 10
        }
      ]
    },
    {
      "cell_type": "code",
      "source": [
        "from statsmodels.stats.weightstats import ztest as ztest\n",
        "\n",
        "#enter IQ levels for 20 individuals from each city\n",
        "cityA = [82, 84, 85, 89, 91, 91, 92, 94, 99, 99,\n",
        "         105, 109, 109, 109, 110, 112, 112, 113, 114, 114]\n",
        "\n",
        "cityB = [90, 91, 91, 91, 95, 95, 99, 99, 108, 109,\n",
        "         109, 114, 115, 116, 117, 117, 128, 129, 130, 133]\n",
        "\n",
        "#perform two sample z-test\n",
        "ztest(cityA, cityB, value=0)\n",
        "\n",
        "(-1.9953236073282115, 0.046007596761332065)"
      ],
      "metadata": {
        "colab": {
          "base_uri": "https://localhost:8080/"
        },
        "id": "inthD2BOdxu1",
        "outputId": "ff2f3b58-dcfe-4d64-af66-4d98c289181a"
      },
      "execution_count": null,
      "outputs": [
        {
          "output_type": "execute_result",
          "data": {
            "text/plain": [
              "(-1.9953236073282115, 0.046007596761332065)"
            ]
          },
          "metadata": {},
          "execution_count": 11
        }
      ]
    },
    {
      "cell_type": "code",
      "source": [
        "# Python program to implement One-Way f-test\n",
        "\n",
        "# Importing the required libraries\n",
        "import scipy.stats\n",
        "\n",
        "# Creating sample data\n",
        "data1 = [0.0842, 0.0368, 0.0847, 0.0935, 0.0376, 0.0963, 0.0684,\n",
        "             0.0758, 0.0854, 0.0855]\n",
        "data2 = [0.0785, 0.0845, 0.0758, 0.0853, 0.0946, 0.0785, 0.0853,\n",
        "           0.0685]\n",
        "data3 = [0.0864, 0.2522, 0.0894, 0.2724, 0.0853, 0.1367, 0.853]\n",
        "\n",
        "# Performing the F-Test\n",
        "f_test, p_val = scipy.stats.f_oneway(data1, data2, data3)\n",
        "print(\"p-value is: \", p_val)\n",
        "\n",
        "# taking the threshold value as 0.05 or 5%\n",
        "if p_val < 0.05:\n",
        "    print(\" We can reject the null hypothesis\")\n",
        "else:\n",
        "    print(\"We can accept the null hypothesis\")"
      ],
      "metadata": {
        "colab": {
          "base_uri": "https://localhost:8080/"
        },
        "id": "40sKyNXnfZcD",
        "outputId": "0164b4cc-904e-4608-ebca-f2b87ca62688"
      },
      "execution_count": null,
      "outputs": [
        {
          "output_type": "stream",
          "name": "stdout",
          "text": [
            "p-value is:  0.04043792126789144\n",
            " We can reject the null hypothesis\n"
          ]
        }
      ]
    },
    {
      "cell_type": "code",
      "source": [
        "import scipy.stats as stats\n",
        "import numpy as np\n",
        "\n",
        "# Create a contingency table\n",
        "# Rows: Male, Female | Columns: Satisfied, Dissatisfied\n",
        "observed = np.array([[45, 15], [30, 25]])\n",
        "\n",
        "# Perform chi-square test\n",
        "chi2_stat, p_value, dof, expected = stats.chi2_contingency(observed)\n",
        "\n",
        "# Check if the result is significant\n",
        "alpha = 0.05\n",
        "if p_value < alpha:\n",
        "    print(\"Reject the null hypothesis: There is a significant association between gender and job satisfaction.\")\n",
        "else:\n",
        "    print(\"Fail to reject the null hypothesis: There is no significant association between gender and job satisfaction.\")\n",
        "\n",
        "# Print chi-square statistic, p-value, degrees of freedom, and expected frequencies\n",
        "print(f\"Chi-square statistic: {chi2_stat}\")\n",
        "print(f\"P-value: {p_value}\")\n",
        "print(f\"Degrees of freedom: {dof}\")\n",
        "print(f\"Expected frequencies:\\n{expected}\")"
      ],
      "metadata": {
        "id": "fHXoPWz2gzfY",
        "outputId": "a9101112-a7c4-4788-d948-2880c19548a6",
        "colab": {
          "base_uri": "https://localhost:8080/"
        }
      },
      "execution_count": null,
      "outputs": [
        {
          "output_type": "stream",
          "name": "stdout",
          "text": [
            "Reject the null hypothesis: There is a significant association between gender and job satisfaction.\n",
            "Chi-square statistic: 4.429315025252526\n",
            "P-value: 0.03532668256876494\n",
            "Degrees of freedom: 1\n",
            "Expected frequencies:\n",
            "[[39.13043478 20.86956522]\n",
            " [35.86956522 19.13043478]]\n"
          ]
        }
      ]
    }
  ]
}
{
  "nbformat": 4,
  "nbformat_minor": 0,
  "metadata": {
    "colab": {
      "provenance": []
    },
    "kernelspec": {
      "name": "python3",
      "display_name": "Python 3"
    },
    "language_info": {
      "name": "python"
    }
  },
  "cells": [
    {
      "cell_type": "code",
      "execution_count": 1,
      "metadata": {
        "colab": {
          "base_uri": "https://localhost:8080/"
        },
        "id": "wb9Qp6vfiQDW",
        "outputId": "e4841ceb-ddb3-4812-c4cd-ab60830f806c"
      },
      "outputs": [
        {
          "output_type": "stream",
          "name": "stdout",
          "text": [
            "Data loaded\n"
          ]
        }
      ],
      "source": [
        "# load the dataset\n",
        "from tensorflow.keras.datasets import mnist\n",
        "print('Data loaded')"
      ]
    },
    {
      "cell_type": "code",
      "source": [
        "# create train & test\n",
        "(X_train,y_train),(X_test,y_test)=mnist.load_data()"
      ],
      "metadata": {
        "colab": {
          "base_uri": "https://localhost:8080/"
        },
        "id": "PcmibFBzidw7",
        "outputId": "7c27f4d7-6c10-45c5-e5ba-02d2e35737d1"
      },
      "execution_count": 3,
      "outputs": [
        {
          "output_type": "stream",
          "name": "stdout",
          "text": [
            "Downloading data from https://storage.googleapis.com/tensorflow/tf-keras-datasets/mnist.npz\n",
            "11490434/11490434 [==============================] - 0s 0us/step\n"
          ]
        }
      ]
    },
    {
      "cell_type": "code",
      "source": [
        "# normalize the pixel in 0 to 1\n",
        "X_train=X_train/255.\n",
        "X_test=X_test/255."
      ],
      "metadata": {
        "id": "7Ov8p-3Mil1y"
      },
      "execution_count": 4,
      "outputs": []
    },
    {
      "cell_type": "code",
      "source": [
        "X_train.shape"
      ],
      "metadata": {
        "colab": {
          "base_uri": "https://localhost:8080/"
        },
        "id": "Khtq9-nWjFjk",
        "outputId": "33ef486d-ce1f-482d-809a-ff5e9c0ceb12"
      },
      "execution_count": 5,
      "outputs": [
        {
          "output_type": "execute_result",
          "data": {
            "text/plain": [
              "(60000, 28, 28)"
            ]
          },
          "metadata": {},
          "execution_count": 5
        }
      ]
    },
    {
      "cell_type": "code",
      "source": [
        "X_test.shape"
      ],
      "metadata": {
        "colab": {
          "base_uri": "https://localhost:8080/"
        },
        "id": "o63xE3vSjNB_",
        "outputId": "d0781b7f-a737-486d-ee3b-82633aa4dc52"
      },
      "execution_count": 6,
      "outputs": [
        {
          "output_type": "execute_result",
          "data": {
            "text/plain": [
              "(10000, 28, 28)"
            ]
          },
          "metadata": {},
          "execution_count": 6
        }
      ]
    },
    {
      "cell_type": "markdown",
      "source": [
        "1. crate architecture\n",
        "2. Compile the model\n",
        "3. run the model\n",
        "4. Evaluate & predict"
      ],
      "metadata": {
        "id": "u7zyDuYSjczy"
      }
    },
    {
      "cell_type": "code",
      "source": [
        "from tensorflow.keras.models import Model\n",
        "from tensorflow.keras.layers import Input,Dense,Flatten"
      ],
      "metadata": {
        "id": "T4nNbtwWjPW2"
      },
      "execution_count": 8,
      "outputs": []
    },
    {
      "cell_type": "markdown",
      "source": [
        "functional API-mutiple inputs , multiple output"
      ],
      "metadata": {
        "id": "rVEcS3cEpJKK"
      }
    },
    {
      "cell_type": "code",
      "source": [
        "def build_model_function():\n",
        "  input_layer=Input(shape=(28,28))\n",
        "  flatten_layer=Flatten()(input_layer)\n",
        "  first_dense=Dense(128,activation='relu')(flatten_layer)\n",
        "  output_layer=Dense(10,activation='softmax')(first_dense)\n",
        "  func_model=Model(inputs=input_layer,outputs=[output_layer])\n",
        "  return func_model\n"
      ],
      "metadata": {
        "id": "-oKGy2rakEPL"
      },
      "execution_count": 10,
      "outputs": []
    },
    {
      "cell_type": "code",
      "source": [
        "model=build_model_function()\n",
        "model.summary()"
      ],
      "metadata": {
        "colab": {
          "base_uri": "https://localhost:8080/"
        },
        "id": "s1FhCKAUoa60",
        "outputId": "89b0723a-8c82-4437-e46a-88fd1076c8ec"
      },
      "execution_count": 11,
      "outputs": [
        {
          "output_type": "stream",
          "name": "stdout",
          "text": [
            "Model: \"model\"\n",
            "_________________________________________________________________\n",
            " Layer (type)                Output Shape              Param #   \n",
            "=================================================================\n",
            " input_1 (InputLayer)        [(None, 28, 28)]          0         \n",
            "                                                                 \n",
            " flatten (Flatten)           (None, 784)               0         \n",
            "                                                                 \n",
            " dense (Dense)               (None, 128)               100480    \n",
            "                                                                 \n",
            " dense_1 (Dense)             (None, 10)                1290      \n",
            "                                                                 \n",
            "=================================================================\n",
            "Total params: 101770 (397.54 KB)\n",
            "Trainable params: 101770 (397.54 KB)\n",
            "Non-trainable params: 0 (0.00 Byte)\n",
            "_________________________________________________________________\n"
          ]
        }
      ]
    },
    {
      "cell_type": "code",
      "source": [
        "y_train[:5]"
      ],
      "metadata": {
        "colab": {
          "base_uri": "https://localhost:8080/"
        },
        "id": "k5X87MbGrFFM",
        "outputId": "c6eabb47-477d-4794-af97-cb7984d9df85"
      },
      "execution_count": 12,
      "outputs": [
        {
          "output_type": "execute_result",
          "data": {
            "text/plain": [
              "array([5, 0, 4, 1, 9], dtype=uint8)"
            ]
          },
          "metadata": {},
          "execution_count": 12
        }
      ]
    },
    {
      "cell_type": "code",
      "source": [
        "# compile the model\n",
        "model.compile(loss='sparse_categorical_crossentropy',optimizer='adam',metrics=['accuracy'])\n",
        "print('model is compiled')"
      ],
      "metadata": {
        "colab": {
          "base_uri": "https://localhost:8080/"
        },
        "id": "1c6uKjyEok7r",
        "outputId": "6418559f-cf1e-4b93-9562-ac56c596cbb0"
      },
      "execution_count": 13,
      "outputs": [
        {
          "output_type": "stream",
          "name": "stdout",
          "text": [
            "model is compiled\n"
          ]
        }
      ]
    },
    {
      "cell_type": "code",
      "source": [
        "# train the model\n",
        "batch_size=128\n",
        "epochs=10"
      ],
      "metadata": {
        "id": "aCsfjjTrrMZI"
      },
      "execution_count": 14,
      "outputs": []
    },
    {
      "cell_type": "code",
      "source": [
        "history=model.fit(X_train,y_train,\n",
        "                  batch_size=batch_size,\n",
        "                  epochs=epochs,\n",
        "                  validation_data=(X_test,y_test))"
      ],
      "metadata": {
        "colab": {
          "base_uri": "https://localhost:8080/"
        },
        "id": "5AjNOuldreoD",
        "outputId": "6fbceb9b-7156-41f9-93fa-94c7617cc9db"
      },
      "execution_count": 15,
      "outputs": [
        {
          "output_type": "stream",
          "name": "stdout",
          "text": [
            "Epoch 1/10\n",
            "469/469 [==============================] - 3s 5ms/step - loss: 0.3583 - accuracy: 0.8992 - val_loss: 0.2021 - val_accuracy: 0.9399\n",
            "Epoch 2/10\n",
            "469/469 [==============================] - 3s 6ms/step - loss: 0.1689 - accuracy: 0.9518 - val_loss: 0.1449 - val_accuracy: 0.9571\n",
            "Epoch 3/10\n",
            "469/469 [==============================] - 2s 4ms/step - loss: 0.1227 - accuracy: 0.9650 - val_loss: 0.1158 - val_accuracy: 0.9660\n",
            "Epoch 4/10\n",
            "469/469 [==============================] - 2s 4ms/step - loss: 0.0942 - accuracy: 0.9726 - val_loss: 0.1027 - val_accuracy: 0.9676\n",
            "Epoch 5/10\n",
            "469/469 [==============================] - 2s 4ms/step - loss: 0.0756 - accuracy: 0.9783 - val_loss: 0.0893 - val_accuracy: 0.9701\n",
            "Epoch 6/10\n",
            "469/469 [==============================] - 2s 4ms/step - loss: 0.0624 - accuracy: 0.9820 - val_loss: 0.0828 - val_accuracy: 0.9753\n",
            "Epoch 7/10\n",
            "469/469 [==============================] - 2s 5ms/step - loss: 0.0526 - accuracy: 0.9849 - val_loss: 0.0825 - val_accuracy: 0.9748\n",
            "Epoch 8/10\n",
            "469/469 [==============================] - 3s 6ms/step - loss: 0.0437 - accuracy: 0.9877 - val_loss: 0.0808 - val_accuracy: 0.9761\n",
            "Epoch 9/10\n",
            "469/469 [==============================] - 2s 4ms/step - loss: 0.0366 - accuracy: 0.9900 - val_loss: 0.0788 - val_accuracy: 0.9760\n",
            "Epoch 10/10\n",
            "469/469 [==============================] - 2s 4ms/step - loss: 0.0303 - accuracy: 0.9920 - val_loss: 0.0695 - val_accuracy: 0.9780\n"
          ]
        }
      ]
    },
    {
      "cell_type": "code",
      "source": [
        "score_test=model.evaluate(X_test,y_test)\n",
        "print('test score',score_test)"
      ],
      "metadata": {
        "colab": {
          "base_uri": "https://localhost:8080/"
        },
        "id": "yL-9-i4yrjiC",
        "outputId": "ffbf3bbb-6bb9-489a-ad07-fa994908c417"
      },
      "execution_count": 16,
      "outputs": [
        {
          "output_type": "stream",
          "name": "stdout",
          "text": [
            "313/313 [==============================] - 1s 2ms/step - loss: 0.0695 - accuracy: 0.9780\n",
            "test score [0.06947287917137146, 0.9779999852180481]\n"
          ]
        }
      ]
    },
    {
      "cell_type": "code",
      "source": [],
      "metadata": {
        "id": "ufkASiBUryob"
      },
      "execution_count": null,
      "outputs": []
    }
  ]
}